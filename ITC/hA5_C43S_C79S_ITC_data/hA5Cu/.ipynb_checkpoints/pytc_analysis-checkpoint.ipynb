{
 "cells": [
  {
   "cell_type": "code",
   "execution_count": null,
   "metadata": {
    "collapsed": false,
    "deletable": true,
    "editable": true,
    "scrolled": true
   },
   "outputs": [
    {
     "name": "stderr",
     "output_type": "stream",
     "text": [
      "/home/luke/virtual_environments/py3/lib/python3.6/site-packages/pytc/indiv_models/single_site.py:32: RuntimeWarning: invalid value encountered in sqrt\n",
      "  ST = (b - np.sqrt((b)**2 - 4*S_conc_corr*self._T_conc))/2\n"
     ]
    }
   ],
   "source": [
    "%matplotlib inline\n",
    "import matplotlib.pyplot as plt\n",
    "import pytc\n",
    "\n",
    "# --------------------------------------------------------------------\n",
    "# Create a global fitting instance\n",
    "g = pytc.GlobalFit()\n",
    "\n",
    "# --------------------------------------------------------------------\n",
    "# Load in an experimental data set with a single-site binding model.  Ignore the first two shots\n",
    "a = pytc.ITCExperiment(\"hA5C43SC79SCuTESrep2.sedphat\",pytc.indiv_models.SingleSite,shot_start=2)\n",
    "b = pytc.ITCExperiment(\"hA5C43SC79SCuTESrep3.sedphat\",pytc.indiv_models.SingleSite,shot_start=2)\n",
    "\n",
    "\n",
    "# Add the experiment to the fitter\n",
    "g.add_experiment(a)\n",
    "g.add_experiment(b)\n",
    "#g.update_fixed(\"fx_competent\",1.0,a)\n",
    "\n",
    "#g.update_bounds(\"fx_competent\",(0.50,2.5), a)\n",
    "#g.update_bounds(\"fx_competent\",(0.50,2.5), b)\n",
    "\n",
    "g.link_to_global(a,\"K\",\"g_K\")\n",
    "g.link_to_global(b,\"K\",\"g_K\")\n",
    "\n",
    "g.link_to_global(a,\"dH\",\"g_dH\")\n",
    "g.link_to_global(b,\"dH\",\"g_dH\")\n",
    "\n",
    "g.link_to_global(a,\"fx_competent\",\"g_fx\")\n",
    "g.link_to_global(b,\"fx_competent\",\"g_fx\")\n",
    "\n",
    "g.link_to_global(a,\"dilution_heat\",\"g_dilution\")\n",
    "g.link_to_global(b,\"dilution_heat\",\"g_dilution\")\n",
    "\n",
    "g.link_to_global(a,\"dilution_intercept\",\"g_intercept\")\n",
    "g.link_to_global(b,\"dilution_intercept\",\"g_intercept\")\n",
    "\n",
    "g.update_bounds(\"g_fx\",(0.50,2))\n",
    "\n",
    "# --------------------------------------------------------------------\n",
    "# Fit the data\n",
    "F = pytc.fitters.BayesianFitter(num_steps=10000,ml_guess=True,initial_walker_spread=0.0001,burn_in=0.10)\n",
    "g.fit(F)\n",
    "\n",
    "# --------------------------------------------------------------------\n",
    "# Show the results\n",
    "fig, ax = g.plot()\n",
    "plt.savefig(\"Bayesian_fit.pdf\")\n",
    "c = g.corner_plot()\n",
    "plt.savefig(\"corner-plot.pdf\")\n",
    "\n",
    "print(g.fit_as_csv)"
   ]
  },
  {
   "cell_type": "code",
   "execution_count": null,
   "metadata": {
    "collapsed": true,
    "deletable": true,
    "editable": true
   },
   "outputs": [],
   "source": []
  }
 ],
 "metadata": {
  "kernelspec": {
   "display_name": "Python 3",
   "language": "python",
   "name": "python3"
  },
  "language_info": {
   "codemirror_mode": {
    "name": "ipython",
    "version": 3
   },
   "file_extension": ".py",
   "mimetype": "text/x-python",
   "name": "python",
   "nbconvert_exporter": "python",
   "pygments_lexer": "ipython3",
   "version": "3.6.0"
  }
 },
 "nbformat": 4,
 "nbformat_minor": 2
}
