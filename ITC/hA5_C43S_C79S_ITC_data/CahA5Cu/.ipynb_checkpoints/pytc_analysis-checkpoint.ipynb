{
 "cells": [
  {
   "cell_type": "code",
   "execution_count": 1,
   "metadata": {
    "collapsed": false,
    "deletable": true,
    "editable": true
   },
   "outputs": [
    {
     "ename": "StopIteration",
     "evalue": "",
     "output_type": "error",
     "traceback": [
      "\u001b[0;31m---------------------------------------------------------------------------\u001b[0m",
      "\u001b[0;31mStopIteration\u001b[0m                             Traceback (most recent call last)",
      "\u001b[0;32m<ipython-input-1-a5ff84add10d>\u001b[0m in \u001b[0;36m<module>\u001b[0;34m()\u001b[0m\n\u001b[1;32m     10\u001b[0m \u001b[0;31m# Load in an experimental data set with a single-site binding model.  Ignore the first two shots\u001b[0m\u001b[0;34m\u001b[0m\u001b[0;34m\u001b[0m\u001b[0m\n\u001b[1;32m     11\u001b[0m \u001b[0ma\u001b[0m \u001b[0;34m=\u001b[0m \u001b[0mpytc\u001b[0m\u001b[0;34m.\u001b[0m\u001b[0mITCExperiment\u001b[0m\u001b[0;34m(\u001b[0m\u001b[0;34m\"CahA5C43SC79SCuTESrep1.sedphat\"\u001b[0m\u001b[0;34m,\u001b[0m\u001b[0mpytc\u001b[0m\u001b[0;34m.\u001b[0m\u001b[0mindiv_models\u001b[0m\u001b[0;34m.\u001b[0m\u001b[0mSingleSite\u001b[0m\u001b[0;34m,\u001b[0m\u001b[0mshot_start\u001b[0m\u001b[0;34m=\u001b[0m\u001b[0;36m2\u001b[0m\u001b[0;34m)\u001b[0m\u001b[0;34m\u001b[0m\u001b[0m\n\u001b[0;32m---> 12\u001b[0;31m \u001b[0mb\u001b[0m \u001b[0;34m=\u001b[0m \u001b[0mpytc\u001b[0m\u001b[0;34m.\u001b[0m\u001b[0mITCExperiment\u001b[0m\u001b[0;34m(\u001b[0m\u001b[0;34m\"CahA5C43SC79SCuTESrep2.sedphat\"\u001b[0m\u001b[0;34m,\u001b[0m\u001b[0mpytc\u001b[0m\u001b[0;34m.\u001b[0m\u001b[0mindiv_models\u001b[0m\u001b[0;34m.\u001b[0m\u001b[0mSingleSite\u001b[0m\u001b[0;34m,\u001b[0m\u001b[0mshot_start\u001b[0m\u001b[0;34m=\u001b[0m\u001b[0;36m2\u001b[0m\u001b[0;34m)\u001b[0m\u001b[0;34m\u001b[0m\u001b[0m\n\u001b[0m\u001b[1;32m     13\u001b[0m \u001b[0;34m\u001b[0m\u001b[0m\n\u001b[1;32m     14\u001b[0m \u001b[0;34m\u001b[0m\u001b[0m\n",
      "\u001b[0;32m/home/luke/virtual_environments/py3/lib/python3.6/site-packages/pytc/experiments/chooser.py\u001b[0m in \u001b[0;36mITCExperiment\u001b[0;34m(dh_file, model, shot_start, units, uncertainty, **model_kwargs)\u001b[0m\n\u001b[1;32m     37\u001b[0m     \u001b[0;32melif\u001b[0m \u001b[0mextension\u001b[0m \u001b[0;34m==\u001b[0m \u001b[0;34m\"sedphat\"\u001b[0m\u001b[0;34m:\u001b[0m\u001b[0;34m\u001b[0m\u001b[0m\n\u001b[1;32m     38\u001b[0m         return NitpicExperiment(dh_file,model,shot_start,units,uncertainty,\n\u001b[0;32m---> 39\u001b[0;31m                                 **model_kwargs)\n\u001b[0m\u001b[1;32m     40\u001b[0m     \u001b[0;32melse\u001b[0m\u001b[0;34m:\u001b[0m\u001b[0;34m\u001b[0m\u001b[0m\n\u001b[1;32m     41\u001b[0m         \u001b[0merr\u001b[0m \u001b[0;34m=\u001b[0m \u001b[0;34m\"dh_file type could not be determined.\\n\"\u001b[0m\u001b[0;34m\u001b[0m\u001b[0m\n",
      "\u001b[0;32m/home/luke/virtual_environments/py3/lib/python3.6/site-packages/pytc/experiments/base.py\u001b[0m in \u001b[0;36m__init__\u001b[0;34m(self, dh_file, model, shot_start, units, uncertainty, **model_kwargs)\u001b[0m\n\u001b[1;32m     75\u001b[0m         \u001b[0;31m# Load in heats\u001b[0m\u001b[0;34m\u001b[0m\u001b[0;34m\u001b[0m\u001b[0m\n\u001b[1;32m     76\u001b[0m         \u001b[0mextension\u001b[0m \u001b[0;34m=\u001b[0m \u001b[0mself\u001b[0m\u001b[0;34m.\u001b[0m\u001b[0mdh_file\u001b[0m\u001b[0;34m.\u001b[0m\u001b[0msplit\u001b[0m\u001b[0;34m(\u001b[0m\u001b[0;34m\".\"\u001b[0m\u001b[0;34m)\u001b[0m\u001b[0;34m[\u001b[0m\u001b[0;34m-\u001b[0m\u001b[0;36m1\u001b[0m\u001b[0;34m]\u001b[0m\u001b[0;34m\u001b[0m\u001b[0m\n\u001b[0;32m---> 77\u001b[0;31m         \u001b[0mself\u001b[0m\u001b[0;34m.\u001b[0m\u001b[0m_read_heats_file\u001b[0m\u001b[0;34m(\u001b[0m\u001b[0;34m)\u001b[0m\u001b[0;34m\u001b[0m\u001b[0m\n\u001b[0m\u001b[1;32m     78\u001b[0m \u001b[0;34m\u001b[0m\u001b[0m\n\u001b[1;32m     79\u001b[0m         \u001b[0;31m# Initialize model using information read from heats file\u001b[0m\u001b[0;34m\u001b[0m\u001b[0;34m\u001b[0m\u001b[0m\n",
      "\u001b[0;32m/home/luke/virtual_environments/py3/lib/python3.6/site-packages/pytc/experiments/nitpic.py\u001b[0m in \u001b[0;36m_read_heats_file\u001b[0;34m(self)\u001b[0m\n\u001b[1;32m     31\u001b[0m \u001b[0;34m\u001b[0m\u001b[0m\n\u001b[1;32m     32\u001b[0m         \u001b[0;31m# Read in meta data\u001b[0m\u001b[0;34m\u001b[0m\u001b[0;34m\u001b[0m\u001b[0m\n\u001b[0;32m---> 33\u001b[0;31m         \u001b[0mexp_data\u001b[0m \u001b[0;34m=\u001b[0m \u001b[0mnext\u001b[0m\u001b[0;34m(\u001b[0m\u001b[0mf\u001b[0m \u001b[0;32mfor\u001b[0m \u001b[0mf\u001b[0m \u001b[0;32min\u001b[0m \u001b[0mread_files\u001b[0m \u001b[0;32mif\u001b[0m \u001b[0;34m\".xp\"\u001b[0m \u001b[0;32min\u001b[0m \u001b[0mf\u001b[0m\u001b[0;34m)\u001b[0m\u001b[0;34m\u001b[0m\u001b[0m\n\u001b[0m\u001b[1;32m     34\u001b[0m         \u001b[0mf\u001b[0m \u001b[0;34m=\u001b[0m \u001b[0mopen\u001b[0m\u001b[0;34m(\u001b[0m\u001b[0mexp_data\u001b[0m\u001b[0;34m,\u001b[0m \u001b[0;34m'r'\u001b[0m\u001b[0;34m)\u001b[0m\u001b[0;34m\u001b[0m\u001b[0m\n\u001b[1;32m     35\u001b[0m         \u001b[0mmeta\u001b[0m \u001b[0;34m=\u001b[0m \u001b[0mf\u001b[0m\u001b[0;34m.\u001b[0m\u001b[0mreadlines\u001b[0m\u001b[0;34m(\u001b[0m\u001b[0;34m)\u001b[0m\u001b[0;34m\u001b[0m\u001b[0m\n",
      "\u001b[0;31mStopIteration\u001b[0m: "
     ]
    }
   ],
   "source": [
    "%matplotlib inline\n",
    "import matplotlib.pyplot as plt\n",
    "import pytc\n",
    "\n",
    "# --------------------------------------------------------------------\n",
    "# Create a global fitting instance\n",
    "g = pytc.GlobalFit()\n",
    "\n",
    "# --------------------------------------------------------------------\n",
    "# Load in an experimental data set with a single-site binding model.  Ignore the first two shots\n",
    "a = pytc.ITCExperiment(\"CahA5C43SC79SCuTESrep1.sedphat\",pytc.indiv_models.SingleSite,shot_start=2)\n",
    "b = pytc.ITCExperiment(\"CahA5C43SC79SCuTESrep2.sedphat\",pytc.indiv_models.SingleSite,shot_start=2)\n",
    "\n",
    "\n",
    "# Add the experiment to the fitter\n",
    "g.add_experiment(a)\n",
    "g.add_experiment(b)\n",
    "#g.update_fixed(\"fx_competent\",1.0,a)\n",
    "\n",
    "#g.update_bounds(\"fx_competent\",(0.50,2.5), a)\n",
    "#g.update_bounds(\"fx_competent\",(0.50,2.5), b)\n",
    "\n",
    "g.link_to_global(a,\"K\",\"g_K\")\n",
    "g.link_to_global(b,\"K\",\"g_K\")\n",
    "\n",
    "g.link_to_global(a,\"dH\",\"g_dH\")\n",
    "g.link_to_global(b,\"dH\",\"g_dH\")\n",
    "\n",
    "g.link_to_global(a,\"fx_competent\",\"g_fx\")\n",
    "g.link_to_global(b,\"fx_competent\",\"g_fx\")\n",
    "\n",
    "g.link_to_global(a,\"dilution_heat\",\"g_dilution\")\n",
    "g.link_to_global(b,\"dilution_heat\",\"g_dilution\")\n",
    "\n",
    "g.link_to_global(a,\"dilution_intercept\",\"g_intercept\")\n",
    "g.link_to_global(b,\"dilution_intercept\",\"g_intercept\")\n",
    "\n",
    "g.update_bounds(\"g_fx\",(0.50,2))\n",
    "\n",
    "# --------------------------------------------------------------------\n",
    "# Fit the data\n",
    "F = pytc.fitters.BayesianFitter(num_steps=10000,ml_guess=True,initial_walker_spread=0.0001,burn_in=0.10)\n",
    "g.fit(F)\n",
    "\n",
    "# --------------------------------------------------------------------\n",
    "# Show the results\n",
    "fig, ax = g.plot()\n",
    "plt.savefig(\"Bayesian_fit.pdf\")\n",
    "c = g.corner_plot()\n",
    "plt.savefig(\"corner-plot.pdf\")\n",
    "\n",
    "print(g.fit_as_csv)"
   ]
  },
  {
   "cell_type": "code",
   "execution_count": null,
   "metadata": {
    "collapsed": true,
    "deletable": true,
    "editable": true
   },
   "outputs": [],
   "source": []
  }
 ],
 "metadata": {
  "kernelspec": {
   "display_name": "Python 3",
   "language": "python",
   "name": "python3"
  },
  "language_info": {
   "codemirror_mode": {
    "name": "ipython",
    "version": 3
   },
   "file_extension": ".py",
   "mimetype": "text/x-python",
   "name": "python",
   "nbconvert_exporter": "python",
   "pygments_lexer": "ipython3",
   "version": "3.6.0"
  }
 },
 "nbformat": 4,
 "nbformat_minor": 2
}
